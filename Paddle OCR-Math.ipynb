{
 "cells": [
  {
   "cell_type": "markdown",
   "id": "552ce997",
   "metadata": {},
   "source": [
    "# 1. Install and Import Dependencies"
   ]
  },
  {
   "cell_type": "code",
   "execution_count": 1,
   "id": "f0ac349a",
   "metadata": {},
   "outputs": [
    {
     "name": "stdout",
     "output_type": "stream",
     "text": [
      "Looking in indexes: https://pypi.tuna.tsinghua.edu.cn/simple\n",
      "Requirement already satisfied: paddlepaddle in c:\\users\\pahadian\\anaconda3\\envs\\paddle_env\\lib\\site-packages (2.4.1)\n",
      "Collecting protobuf<=3.20.0,>=3.1.0\n",
      "  Using cached https://pypi.tuna.tsinghua.edu.cn/packages/07/36/998db8bbde6980eff255a2701e16c871a950cbdc298ed9abe302f9301160/protobuf-3.20.0-cp38-cp38-win_amd64.whl (904 kB)\n",
      "Requirement already satisfied: decorator in c:\\users\\pahadian\\anaconda3\\envs\\paddle_env\\lib\\site-packages (from paddlepaddle) (5.1.1)\n",
      "Requirement already satisfied: Pillow in c:\\users\\pahadian\\anaconda3\\envs\\paddle_env\\lib\\site-packages (from paddlepaddle) (9.4.0)\n",
      "Requirement already satisfied: paddle-bfloat==0.1.7 in c:\\users\\pahadian\\anaconda3\\envs\\paddle_env\\lib\\site-packages (from paddlepaddle) (0.1.7)\n",
      "Requirement already satisfied: requests>=2.20.0 in c:\\users\\pahadian\\anaconda3\\envs\\paddle_env\\lib\\site-packages (from paddlepaddle) (2.28.2)\n",
      "Requirement already satisfied: astor in c:\\users\\pahadian\\anaconda3\\envs\\paddle_env\\lib\\site-packages (from paddlepaddle) (0.8.1)\n",
      "Requirement already satisfied: numpy>=1.13 in c:\\users\\pahadian\\anaconda3\\envs\\paddle_env\\lib\\site-packages (from paddlepaddle) (1.24.2)\n",
      "Requirement already satisfied: opt-einsum==3.3.0 in c:\\users\\pahadian\\anaconda3\\envs\\paddle_env\\lib\\site-packages (from paddlepaddle) (3.3.0)\n",
      "Requirement already satisfied: six in c:\\users\\pahadian\\anaconda3\\envs\\paddle_env\\lib\\site-packages (from paddlepaddle) (1.16.0)\n",
      "Requirement already satisfied: urllib3<1.27,>=1.21.1 in c:\\users\\pahadian\\anaconda3\\envs\\paddle_env\\lib\\site-packages (from requests>=2.20.0->paddlepaddle) (1.26.14)\n",
      "Requirement already satisfied: certifi>=2017.4.17 in c:\\users\\pahadian\\anaconda3\\envs\\paddle_env\\lib\\site-packages (from requests>=2.20.0->paddlepaddle) (2022.12.7)\n",
      "Requirement already satisfied: charset-normalizer<4,>=2 in c:\\users\\pahadian\\anaconda3\\envs\\paddle_env\\lib\\site-packages (from requests>=2.20.0->paddlepaddle) (3.0.1)\n",
      "Requirement already satisfied: idna<4,>=2.5 in c:\\users\\pahadian\\anaconda3\\envs\\paddle_env\\lib\\site-packages (from requests>=2.20.0->paddlepaddle) (3.4)\n",
      "Installing collected packages: protobuf\n",
      "  Attempting uninstall: protobuf\n",
      "    Found existing installation: protobuf 3.20.3\n",
      "    Uninstalling protobuf-3.20.3:\n",
      "      Successfully uninstalled protobuf-3.20.3\n"
     ]
    },
    {
     "name": "stderr",
     "output_type": "stream",
     "text": [
      "ERROR: Could not install packages due to an OSError: [WinError 5] Access is denied: 'C:\\\\Users\\\\pahadian\\\\Anaconda3\\\\envs\\\\paddle_env\\\\Lib\\\\site-packages\\\\google\\\\~rotobuf\\\\internal\\\\_api_implementation.cp38-win_amd64.pyd'\n",
      "Consider using the `--user` option or check the permissions.\n",
      "\n"
     ]
    }
   ],
   "source": [
    "# GitHub repo installation of paddle\n",
    "!python -m pip install paddlepaddle -i https://pypi.tuna.tsinghua.edu.cn/simple"
   ]
  },
  {
   "cell_type": "code",
   "execution_count": 7,
   "id": "11b847ac",
   "metadata": {},
   "outputs": [
    {
     "name": "stdout",
     "output_type": "stream",
     "text": [
      "Requirement already satisfied: h5py in c:\\users\\pahadian\\anaconda3\\envs\\paddle_env\\lib\\site-packages (3.8.0)\n",
      "Requirement already satisfied: numpy>=1.14.5 in c:\\users\\pahadian\\anaconda3\\envs\\paddle_env\\lib\\site-packages (from h5py) (1.24.2)\n"
     ]
    },
    {
     "name": "stderr",
     "output_type": "stream",
     "text": [
      "WARNING: Ignoring invalid distribution -rotobuf (c:\\users\\pahadian\\anaconda3\\envs\\paddle_env\\lib\\site-packages)\n",
      "WARNING: Ignoring invalid distribution -rotobuf (c:\\users\\pahadian\\anaconda3\\envs\\paddle_env\\lib\\site-packages)\n",
      "WARNING: Ignoring invalid distribution -rotobuf (c:\\users\\pahadian\\anaconda3\\envs\\paddle_env\\lib\\site-packages)\n",
      "WARNING: Ignoring invalid distribution -rotobuf (c:\\users\\pahadian\\anaconda3\\envs\\paddle_env\\lib\\site-packages)\n",
      "WARNING: Ignoring invalid distribution -rotobuf (c:\\users\\pahadian\\anaconda3\\envs\\paddle_env\\lib\\site-packages)\n",
      "WARNING: Ignoring invalid distribution -rotobuf (c:\\users\\pahadian\\anaconda3\\envs\\paddle_env\\lib\\site-packages)\n"
     ]
    },
    {
     "name": "stdout",
     "output_type": "stream",
     "text": [
      "Requirement already satisfied: typing-extensions in c:\\users\\pahadian\\anaconda3\\envs\\paddle_env\\lib\\site-packages (4.4.0)\n"
     ]
    },
    {
     "name": "stderr",
     "output_type": "stream",
     "text": [
      "WARNING: Ignoring invalid distribution -rotobuf (c:\\users\\pahadian\\anaconda3\\envs\\paddle_env\\lib\\site-packages)\n",
      "WARNING: Ignoring invalid distribution -rotobuf (c:\\users\\pahadian\\anaconda3\\envs\\paddle_env\\lib\\site-packages)\n",
      "WARNING: Ignoring invalid distribution -rotobuf (c:\\users\\pahadian\\anaconda3\\envs\\paddle_env\\lib\\site-packages)\n",
      "WARNING: Ignoring invalid distribution -rotobuf (c:\\users\\pahadian\\anaconda3\\envs\\paddle_env\\lib\\site-packages)\n",
      "WARNING: Ignoring invalid distribution -rotobuf (c:\\users\\pahadian\\anaconda3\\envs\\paddle_env\\lib\\site-packages)\n",
      "WARNING: Ignoring invalid distribution -rotobuf (c:\\users\\pahadian\\anaconda3\\envs\\paddle_env\\lib\\site-packages)\n"
     ]
    },
    {
     "name": "stdout",
     "output_type": "stream",
     "text": [
      "Requirement already satisfied: wheel in c:\\users\\pahadian\\anaconda3\\envs\\paddle_env\\lib\\site-packages (0.37.1)\n"
     ]
    },
    {
     "name": "stderr",
     "output_type": "stream",
     "text": [
      "WARNING: Ignoring invalid distribution -rotobuf (c:\\users\\pahadian\\anaconda3\\envs\\paddle_env\\lib\\site-packages)\n",
      "WARNING: Ignoring invalid distribution -rotobuf (c:\\users\\pahadian\\anaconda3\\envs\\paddle_env\\lib\\site-packages)\n",
      "WARNING: Ignoring invalid distribution -rotobuf (c:\\users\\pahadian\\anaconda3\\envs\\paddle_env\\lib\\site-packages)\n",
      "WARNING: Ignoring invalid distribution -rotobuf (c:\\users\\pahadian\\anaconda3\\envs\\paddle_env\\lib\\site-packages)\n",
      "WARNING: Ignoring invalid distribution -rotobuf (c:\\users\\pahadian\\anaconda3\\envs\\paddle_env\\lib\\site-packages)\n",
      "WARNING: Ignoring invalid distribution -rotobuf (c:\\users\\pahadian\\anaconda3\\envs\\paddle_env\\lib\\site-packages)\n"
     ]
    },
    {
     "name": "stdout",
     "output_type": "stream",
     "text": [
      "Requirement already satisfied: paddleocr>=2.0.1 in c:\\users\\pahadian\\anaconda3\\envs\\paddle_env\\lib\\site-packages (2.6.1.3)\n",
      "Requirement already satisfied: fire>=0.3.0 in c:\\users\\pahadian\\anaconda3\\envs\\paddle_env\\lib\\site-packages (from paddleocr>=2.0.1) (0.5.0)\n",
      "Requirement already satisfied: scikit-image in c:\\users\\pahadian\\anaconda3\\envs\\paddle_env\\lib\\site-packages (from paddleocr>=2.0.1) (0.19.3)\n",
      "Requirement already satisfied: premailer in c:\\users\\pahadian\\anaconda3\\envs\\paddle_env\\lib\\site-packages (from paddleocr>=2.0.1) (3.10.0)\n",
      "Requirement already satisfied: lmdb in c:\\users\\pahadian\\anaconda3\\envs\\paddle_env\\lib\\site-packages (from paddleocr>=2.0.1) (1.4.0)\n",
      "Requirement already satisfied: visualdl in c:\\users\\pahadian\\anaconda3\\envs\\paddle_env\\lib\\site-packages (from paddleocr>=2.0.1) (2.5.0)\n",
      "Requirement already satisfied: PyMuPDF<1.21.0 in c:\\users\\pahadian\\anaconda3\\envs\\paddle_env\\lib\\site-packages (from paddleocr>=2.0.1) (1.20.2)\n",
      "Requirement already satisfied: python-docx in c:\\users\\pahadian\\anaconda3\\envs\\paddle_env\\lib\\site-packages (from paddleocr>=2.0.1) (0.8.11)\n",
      "Requirement already satisfied: shapely in c:\\users\\pahadian\\anaconda3\\envs\\paddle_env\\lib\\site-packages (from paddleocr>=2.0.1) (2.0.1)\n",
      "Requirement already satisfied: fonttools>=4.24.0 in c:\\users\\pahadian\\anaconda3\\envs\\paddle_env\\lib\\site-packages (from paddleocr>=2.0.1) (4.38.0)\n",
      "Requirement already satisfied: numpy in c:\\users\\pahadian\\anaconda3\\envs\\paddle_env\\lib\\site-packages (from paddleocr>=2.0.1) (1.24.2)\n",
      "Requirement already satisfied: rapidfuzz in c:\\users\\pahadian\\anaconda3\\envs\\paddle_env\\lib\\site-packages (from paddleocr>=2.0.1) (2.13.7)\n",
      "Requirement already satisfied: cython in c:\\users\\pahadian\\anaconda3\\envs\\paddle_env\\lib\\site-packages (from paddleocr>=2.0.1) (0.29.33)\n",
      "Requirement already satisfied: imgaug in c:\\users\\pahadian\\anaconda3\\envs\\paddle_env\\lib\\site-packages (from paddleocr>=2.0.1) (0.4.0)\n",
      "Requirement already satisfied: opencv-contrib-python<=4.6.0.66 in c:\\users\\pahadian\\anaconda3\\envs\\paddle_env\\lib\\site-packages (from paddleocr>=2.0.1) (4.6.0.66)\n",
      "Requirement already satisfied: tqdm in c:\\users\\pahadian\\anaconda3\\envs\\paddle_env\\lib\\site-packages (from paddleocr>=2.0.1) (4.64.1)\n",
      "Requirement already satisfied: pyclipper in c:\\users\\pahadian\\anaconda3\\envs\\paddle_env\\lib\\site-packages (from paddleocr>=2.0.1) (1.3.0.post4)\n",
      "Requirement already satisfied: pdf2docx in c:\\users\\pahadian\\anaconda3\\envs\\paddle_env\\lib\\site-packages (from paddleocr>=2.0.1) (0.5.6)\n",
      "Requirement already satisfied: beautifulsoup4 in c:\\users\\pahadian\\anaconda3\\envs\\paddle_env\\lib\\site-packages (from paddleocr>=2.0.1) (4.11.2)\n",
      "Requirement already satisfied: opencv-python<=4.6.0.66 in c:\\users\\pahadian\\anaconda3\\envs\\paddle_env\\lib\\site-packages (from paddleocr>=2.0.1) (4.6.0.66)\n",
      "Requirement already satisfied: lxml in c:\\users\\pahadian\\anaconda3\\envs\\paddle_env\\lib\\site-packages (from paddleocr>=2.0.1) (4.9.2)\n",
      "Requirement already satisfied: attrdict in c:\\users\\pahadian\\anaconda3\\envs\\paddle_env\\lib\\site-packages (from paddleocr>=2.0.1) (2.0.1)\n",
      "Requirement already satisfied: openpyxl in c:\\users\\pahadian\\anaconda3\\envs\\paddle_env\\lib\\site-packages (from paddleocr>=2.0.1) (3.1.1)\n",
      "Requirement already satisfied: termcolor in c:\\users\\pahadian\\anaconda3\\envs\\paddle_env\\lib\\site-packages (from fire>=0.3.0->paddleocr>=2.0.1) (2.2.0)\n",
      "Requirement already satisfied: six in c:\\users\\pahadian\\anaconda3\\envs\\paddle_env\\lib\\site-packages (from fire>=0.3.0->paddleocr>=2.0.1) (1.16.0)\n",
      "Requirement already satisfied: soupsieve>1.2 in c:\\users\\pahadian\\anaconda3\\envs\\paddle_env\\lib\\site-packages (from beautifulsoup4->paddleocr>=2.0.1) (2.3.2.post1)\n",
      "Requirement already satisfied: imageio in c:\\users\\pahadian\\anaconda3\\envs\\paddle_env\\lib\\site-packages (from imgaug->paddleocr>=2.0.1) (2.25.1)\n",
      "Requirement already satisfied: Pillow in c:\\users\\pahadian\\anaconda3\\envs\\paddle_env\\lib\\site-packages (from imgaug->paddleocr>=2.0.1) (9.4.0)\n",
      "Requirement already satisfied: matplotlib in c:\\users\\pahadian\\anaconda3\\envs\\paddle_env\\lib\\site-packages (from imgaug->paddleocr>=2.0.1) (3.6.3)\n",
      "Requirement already satisfied: scipy in c:\\users\\pahadian\\anaconda3\\envs\\paddle_env\\lib\\site-packages (from imgaug->paddleocr>=2.0.1) (1.10.0)\n",
      "Requirement already satisfied: networkx>=2.2 in c:\\users\\pahadian\\anaconda3\\envs\\paddle_env\\lib\\site-packages (from scikit-image->paddleocr>=2.0.1) (3.0)\n",
      "Requirement already satisfied: PyWavelets>=1.1.1 in c:\\users\\pahadian\\anaconda3\\envs\\paddle_env\\lib\\site-packages (from scikit-image->paddleocr>=2.0.1) (1.4.1)\n",
      "Requirement already satisfied: packaging>=20.0 in c:\\users\\pahadian\\anaconda3\\envs\\paddle_env\\lib\\site-packages (from scikit-image->paddleocr>=2.0.1) (23.0)\n",
      "Requirement already satisfied: tifffile>=2019.7.26 in c:\\users\\pahadian\\anaconda3\\envs\\paddle_env\\lib\\site-packages (from scikit-image->paddleocr>=2.0.1) (2023.2.3)\n",
      "Requirement already satisfied: et-xmlfile in c:\\users\\pahadian\\anaconda3\\envs\\paddle_env\\lib\\site-packages (from openpyxl->paddleocr>=2.0.1) (1.1.0)\n",
      "Requirement already satisfied: cssutils in c:\\users\\pahadian\\anaconda3\\envs\\paddle_env\\lib\\site-packages (from premailer->paddleocr>=2.0.1) (2.6.0)\n",
      "Requirement already satisfied: cssselect in c:\\users\\pahadian\\anaconda3\\envs\\paddle_env\\lib\\site-packages (from premailer->paddleocr>=2.0.1) (1.2.0)\n",
      "Requirement already satisfied: requests in c:\\users\\pahadian\\anaconda3\\envs\\paddle_env\\lib\\site-packages (from premailer->paddleocr>=2.0.1) (2.28.2)\n",
      "Requirement already satisfied: cachetools in c:\\users\\pahadian\\anaconda3\\envs\\paddle_env\\lib\\site-packages (from premailer->paddleocr>=2.0.1) (5.3.0)\n",
      "Requirement already satisfied: colorama in c:\\users\\pahadian\\anaconda3\\envs\\paddle_env\\lib\\site-packages (from tqdm->paddleocr>=2.0.1) (0.4.6)\n",
      "Requirement already satisfied: tritonclient[all] in c:\\users\\pahadian\\anaconda3\\envs\\paddle_env\\lib\\site-packages (from visualdl->paddleocr>=2.0.1) (2.30.0)\n",
      "Requirement already satisfied: pandas in c:\\users\\pahadian\\anaconda3\\envs\\paddle_env\\lib\\site-packages (from visualdl->paddleocr>=2.0.1) (1.5.3)\n",
      "Requirement already satisfied: protobuf>=3.11.0 in c:\\users\\pahadian\\anaconda3\\envs\\paddle_env\\lib\\site-packages (from visualdl->paddleocr>=2.0.1) (3.20.3)\n",
      "Requirement already satisfied: bce-python-sdk in c:\\users\\pahadian\\anaconda3\\envs\\paddle_env\\lib\\site-packages (from visualdl->paddleocr>=2.0.1) (0.8.79)\n",
      "Requirement already satisfied: psutil in c:\\users\\pahadian\\anaconda3\\envs\\paddle_env\\lib\\site-packages (from visualdl->paddleocr>=2.0.1) (5.9.4)\n",
      "Requirement already satisfied: Flask-Babel>=3.0.0 in c:\\users\\pahadian\\anaconda3\\envs\\paddle_env\\lib\\site-packages (from visualdl->paddleocr>=2.0.1) (3.0.1)\n",
      "Requirement already satisfied: multiprocess in c:\\users\\pahadian\\anaconda3\\envs\\paddle_env\\lib\\site-packages (from visualdl->paddleocr>=2.0.1) (0.70.14)\n",
      "Requirement already satisfied: flask>=1.1.1 in c:\\users\\pahadian\\anaconda3\\envs\\paddle_env\\lib\\site-packages (from visualdl->paddleocr>=2.0.1) (2.2.2)\n",
      "Requirement already satisfied: rarfile in c:\\users\\pahadian\\anaconda3\\envs\\paddle_env\\lib\\site-packages (from visualdl->paddleocr>=2.0.1) (4.0)\n",
      "Requirement already satisfied: onnx>=1.6.0 in c:\\users\\pahadian\\anaconda3\\envs\\paddle_env\\lib\\site-packages (from visualdl->paddleocr>=2.0.1) (1.13.0)\n",
      "Requirement already satisfied: gradio in c:\\users\\pahadian\\anaconda3\\envs\\paddle_env\\lib\\site-packages (from visualdl->paddleocr>=2.0.1) (3.18.0)\n",
      "Requirement already satisfied: x2paddle in c:\\users\\pahadian\\anaconda3\\envs\\paddle_env\\lib\\site-packages (from visualdl->paddleocr>=2.0.1) (1.4.0)\n",
      "Requirement already satisfied: Werkzeug>=2.2.2 in c:\\users\\pahadian\\anaconda3\\envs\\paddle_env\\lib\\site-packages (from flask>=1.1.1->visualdl->paddleocr>=2.0.1) (2.2.2)\n",
      "Requirement already satisfied: itsdangerous>=2.0 in c:\\users\\pahadian\\anaconda3\\envs\\paddle_env\\lib\\site-packages (from flask>=1.1.1->visualdl->paddleocr>=2.0.1) (2.1.2)\n",
      "Requirement already satisfied: click>=8.0 in c:\\users\\pahadian\\anaconda3\\envs\\paddle_env\\lib\\site-packages (from flask>=1.1.1->visualdl->paddleocr>=2.0.1) (8.1.3)\n",
      "Requirement already satisfied: Jinja2>=3.0 in c:\\users\\pahadian\\anaconda3\\envs\\paddle_env\\lib\\site-packages (from flask>=1.1.1->visualdl->paddleocr>=2.0.1) (3.1.2)\n",
      "Requirement already satisfied: importlib-metadata>=3.6.0 in c:\\users\\pahadian\\anaconda3\\envs\\paddle_env\\lib\\site-packages (from flask>=1.1.1->visualdl->paddleocr>=2.0.1) (6.0.0)\n",
      "Requirement already satisfied: Babel<3.0.0,>=2.11.0 in c:\\users\\pahadian\\anaconda3\\envs\\paddle_env\\lib\\site-packages (from Flask-Babel>=3.0.0->visualdl->paddleocr>=2.0.1) (2.11.0)\n",
      "Requirement already satisfied: pytz<2023.0,>=2022.7 in c:\\users\\pahadian\\anaconda3\\envs\\paddle_env\\lib\\site-packages (from Flask-Babel>=3.0.0->visualdl->paddleocr>=2.0.1) (2022.7.1)\n",
      "Requirement already satisfied: typing-extensions>=3.6.2.1 in c:\\users\\pahadian\\anaconda3\\envs\\paddle_env\\lib\\site-packages (from onnx>=1.6.0->visualdl->paddleocr>=2.0.1) (4.4.0)\n",
      "Requirement already satisfied: future>=0.6.0 in c:\\users\\pahadian\\anaconda3\\envs\\paddle_env\\lib\\site-packages (from bce-python-sdk->visualdl->paddleocr>=2.0.1) (0.18.3)\n",
      "Requirement already satisfied: pycryptodome>=3.8.0 in c:\\users\\pahadian\\anaconda3\\envs\\paddle_env\\lib\\site-packages (from bce-python-sdk->visualdl->paddleocr>=2.0.1) (3.17)\n",
      "Requirement already satisfied: markdown-it-py[linkify,plugins]>=2.0.0 in c:\\users\\pahadian\\anaconda3\\envs\\paddle_env\\lib\\site-packages (from gradio->visualdl->paddleocr>=2.0.1) (2.1.0)\n",
      "Requirement already satisfied: uvicorn in c:\\users\\pahadian\\anaconda3\\envs\\paddle_env\\lib\\site-packages (from gradio->visualdl->paddleocr>=2.0.1) (0.20.0)\n",
      "Requirement already satisfied: orjson in c:\\users\\pahadian\\anaconda3\\envs\\paddle_env\\lib\\site-packages (from gradio->visualdl->paddleocr>=2.0.1) (3.8.6)\n",
      "Requirement already satisfied: markupsafe in c:\\users\\pahadian\\anaconda3\\envs\\paddle_env\\lib\\site-packages (from gradio->visualdl->paddleocr>=2.0.1) (2.1.2)\n",
      "Requirement already satisfied: fsspec in c:\\users\\pahadian\\anaconda3\\envs\\paddle_env\\lib\\site-packages (from gradio->visualdl->paddleocr>=2.0.1) (2023.1.0)\n",
      "Requirement already satisfied: pyyaml in c:\\users\\pahadian\\anaconda3\\envs\\paddle_env\\lib\\site-packages (from gradio->visualdl->paddleocr>=2.0.1) (6.0)\n",
      "Requirement already satisfied: aiofiles in c:\\users\\pahadian\\anaconda3\\envs\\paddle_env\\lib\\site-packages (from gradio->visualdl->paddleocr>=2.0.1) (23.1.0)\n",
      "Requirement already satisfied: ffmpy in c:\\users\\pahadian\\anaconda3\\envs\\paddle_env\\lib\\site-packages (from gradio->visualdl->paddleocr>=2.0.1) (0.3.0)\n",
      "Requirement already satisfied: websockets>=10.0 in c:\\users\\pahadian\\anaconda3\\envs\\paddle_env\\lib\\site-packages (from gradio->visualdl->paddleocr>=2.0.1) (10.4)\n",
      "Requirement already satisfied: pydantic in c:\\users\\pahadian\\anaconda3\\envs\\paddle_env\\lib\\site-packages (from gradio->visualdl->paddleocr>=2.0.1) (1.10.4)\n",
      "Requirement already satisfied: altair>=4.2.0 in c:\\users\\pahadian\\anaconda3\\envs\\paddle_env\\lib\\site-packages (from gradio->visualdl->paddleocr>=2.0.1) (4.2.2)\n",
      "Requirement already satisfied: aiohttp in c:\\users\\pahadian\\anaconda3\\envs\\paddle_env\\lib\\site-packages (from gradio->visualdl->paddleocr>=2.0.1) (3.8.4)\n",
      "Requirement already satisfied: httpx in c:\\users\\pahadian\\anaconda3\\envs\\paddle_env\\lib\\site-packages (from gradio->visualdl->paddleocr>=2.0.1) (0.23.3)\n",
      "Requirement already satisfied: python-multipart in c:\\users\\pahadian\\anaconda3\\envs\\paddle_env\\lib\\site-packages (from gradio->visualdl->paddleocr>=2.0.1) (0.0.5)\n",
      "Requirement already satisfied: pydub in c:\\users\\pahadian\\anaconda3\\envs\\paddle_env\\lib\\site-packages (from gradio->visualdl->paddleocr>=2.0.1) (0.25.1)\n",
      "Requirement already satisfied: fastapi in c:\\users\\pahadian\\anaconda3\\envs\\paddle_env\\lib\\site-packages (from gradio->visualdl->paddleocr>=2.0.1) (0.91.0)\n",
      "Requirement already satisfied: python-dateutil>=2.7 in c:\\users\\pahadian\\anaconda3\\envs\\paddle_env\\lib\\site-packages (from matplotlib->imgaug->paddleocr>=2.0.1) (2.8.2)\n",
      "Requirement already satisfied: cycler>=0.10 in c:\\users\\pahadian\\anaconda3\\envs\\paddle_env\\lib\\site-packages (from matplotlib->imgaug->paddleocr>=2.0.1) (0.11.0)\n",
      "Requirement already satisfied: contourpy>=1.0.1 in c:\\users\\pahadian\\anaconda3\\envs\\paddle_env\\lib\\site-packages (from matplotlib->imgaug->paddleocr>=2.0.1) (1.0.7)\n",
      "Requirement already satisfied: kiwisolver>=1.0.1 in c:\\users\\pahadian\\anaconda3\\envs\\paddle_env\\lib\\site-packages (from matplotlib->imgaug->paddleocr>=2.0.1) (1.4.4)\n",
      "Requirement already satisfied: pyparsing>=2.2.1 in c:\\users\\pahadian\\anaconda3\\envs\\paddle_env\\lib\\site-packages (from matplotlib->imgaug->paddleocr>=2.0.1) (3.0.9)\n",
      "Requirement already satisfied: dill>=0.3.6 in c:\\users\\pahadian\\anaconda3\\envs\\paddle_env\\lib\\site-packages (from multiprocess->visualdl->paddleocr>=2.0.1) (0.3.6)\n",
      "Requirement already satisfied: certifi>=2017.4.17 in c:\\users\\pahadian\\anaconda3\\envs\\paddle_env\\lib\\site-packages (from requests->premailer->paddleocr>=2.0.1) (2022.12.7)\n",
      "Requirement already satisfied: charset-normalizer<4,>=2 in c:\\users\\pahadian\\anaconda3\\envs\\paddle_env\\lib\\site-packages (from requests->premailer->paddleocr>=2.0.1) (3.0.1)\n",
      "Requirement already satisfied: idna<4,>=2.5 in c:\\users\\pahadian\\anaconda3\\envs\\paddle_env\\lib\\site-packages (from requests->premailer->paddleocr>=2.0.1) (3.4)\n",
      "Requirement already satisfied: urllib3<1.27,>=1.21.1 in c:\\users\\pahadian\\anaconda3\\envs\\paddle_env\\lib\\site-packages (from requests->premailer->paddleocr>=2.0.1) (1.26.14)\n",
      "Requirement already satisfied: python-rapidjson>=0.9.1 in c:\\users\\pahadian\\anaconda3\\envs\\paddle_env\\lib\\site-packages (from tritonclient[all]->visualdl->paddleocr>=2.0.1) (1.9)\n",
      "Requirement already satisfied: geventhttpclient<=2.0.2,>=1.4.4 in c:\\users\\pahadian\\anaconda3\\envs\\paddle_env\\lib\\site-packages (from tritonclient[all]->visualdl->paddleocr>=2.0.1) (2.0.2)\n",
      "Requirement already satisfied: grpcio>=1.41.0 in c:\\users\\pahadian\\anaconda3\\envs\\paddle_env\\lib\\site-packages (from tritonclient[all]->visualdl->paddleocr>=2.0.1) (1.51.1)\n",
      "Requirement already satisfied: sympy in c:\\users\\pahadian\\anaconda3\\envs\\paddle_env\\lib\\site-packages (from x2paddle->visualdl->paddleocr>=2.0.1) (1.11.1)\n",
      "Requirement already satisfied: async-timeout<5.0,>=4.0.0a3 in c:\\users\\pahadian\\anaconda3\\envs\\paddle_env\\lib\\site-packages (from aiohttp->gradio->visualdl->paddleocr>=2.0.1) (4.0.2)\n",
      "Requirement already satisfied: yarl<2.0,>=1.0 in c:\\users\\pahadian\\anaconda3\\envs\\paddle_env\\lib\\site-packages (from aiohttp->gradio->visualdl->paddleocr>=2.0.1) (1.8.2)\n",
      "Requirement already satisfied: aiosignal>=1.1.2 in c:\\users\\pahadian\\anaconda3\\envs\\paddle_env\\lib\\site-packages (from aiohttp->gradio->visualdl->paddleocr>=2.0.1) (1.3.1)\n",
      "Requirement already satisfied: frozenlist>=1.1.1 in c:\\users\\pahadian\\anaconda3\\envs\\paddle_env\\lib\\site-packages (from aiohttp->gradio->visualdl->paddleocr>=2.0.1) (1.3.3)\n",
      "Requirement already satisfied: attrs>=17.3.0 in c:\\users\\pahadian\\anaconda3\\envs\\paddle_env\\lib\\site-packages (from aiohttp->gradio->visualdl->paddleocr>=2.0.1) (22.2.0)\n",
      "Requirement already satisfied: multidict<7.0,>=4.5 in c:\\users\\pahadian\\anaconda3\\envs\\paddle_env\\lib\\site-packages (from aiohttp->gradio->visualdl->paddleocr>=2.0.1) (6.0.4)\n",
      "Requirement already satisfied: toolz in c:\\users\\pahadian\\anaconda3\\envs\\paddle_env\\lib\\site-packages (from altair>=4.2.0->gradio->visualdl->paddleocr>=2.0.1) (0.12.0)\n",
      "Requirement already satisfied: entrypoints in c:\\users\\pahadian\\anaconda3\\envs\\paddle_env\\lib\\site-packages (from altair>=4.2.0->gradio->visualdl->paddleocr>=2.0.1) (0.4)\n",
      "Requirement already satisfied: jsonschema>=3.0 in c:\\users\\pahadian\\anaconda3\\envs\\paddle_env\\lib\\site-packages (from altair>=4.2.0->gradio->visualdl->paddleocr>=2.0.1) (4.17.3)\n",
      "Requirement already satisfied: gevent>=0.13 in c:\\users\\pahadian\\anaconda3\\envs\\paddle_env\\lib\\site-packages (from geventhttpclient<=2.0.2,>=1.4.4->tritonclient[all]->visualdl->paddleocr>=2.0.1) (22.10.2)\n",
      "Requirement already satisfied: brotli in c:\\users\\pahadian\\anaconda3\\envs\\paddle_env\\lib\\site-packages (from geventhttpclient<=2.0.2,>=1.4.4->tritonclient[all]->visualdl->paddleocr>=2.0.1) (1.0.9)\n",
      "Requirement already satisfied: zipp>=0.5 in c:\\users\\pahadian\\anaconda3\\envs\\paddle_env\\lib\\site-packages (from importlib-metadata>=3.6.0->flask>=1.1.1->visualdl->paddleocr>=2.0.1) (3.13.0)\n",
      "Requirement already satisfied: mdurl~=0.1 in c:\\users\\pahadian\\anaconda3\\envs\\paddle_env\\lib\\site-packages (from markdown-it-py[linkify,plugins]>=2.0.0->gradio->visualdl->paddleocr>=2.0.1) (0.1.2)\n",
      "Requirement already satisfied: linkify-it-py~=1.0 in c:\\users\\pahadian\\anaconda3\\envs\\paddle_env\\lib\\site-packages (from markdown-it-py[linkify,plugins]>=2.0.0->gradio->visualdl->paddleocr>=2.0.1) (1.0.3)\n",
      "Requirement already satisfied: mdit-py-plugins in c:\\users\\pahadian\\anaconda3\\envs\\paddle_env\\lib\\site-packages (from markdown-it-py[linkify,plugins]>=2.0.0->gradio->visualdl->paddleocr>=2.0.1) (0.3.3)\n",
      "Requirement already satisfied: starlette<0.25.0,>=0.24.0 in c:\\users\\pahadian\\anaconda3\\envs\\paddle_env\\lib\\site-packages (from fastapi->gradio->visualdl->paddleocr>=2.0.1) (0.24.0)\n",
      "Requirement already satisfied: httpcore<0.17.0,>=0.15.0 in c:\\users\\pahadian\\anaconda3\\envs\\paddle_env\\lib\\site-packages (from httpx->gradio->visualdl->paddleocr>=2.0.1) (0.16.3)\n",
      "Requirement already satisfied: rfc3986[idna2008]<2,>=1.3 in c:\\users\\pahadian\\anaconda3\\envs\\paddle_env\\lib\\site-packages (from httpx->gradio->visualdl->paddleocr>=2.0.1) (1.5.0)\n",
      "Requirement already satisfied: sniffio in c:\\users\\pahadian\\anaconda3\\envs\\paddle_env\\lib\\site-packages (from httpx->gradio->visualdl->paddleocr>=2.0.1) (1.3.0)\n",
      "Requirement already satisfied: mpmath>=0.19 in c:\\users\\pahadian\\anaconda3\\envs\\paddle_env\\lib\\site-packages (from sympy->x2paddle->visualdl->paddleocr>=2.0.1) (1.2.1)\n",
      "Requirement already satisfied: h11>=0.8 in c:\\users\\pahadian\\anaconda3\\envs\\paddle_env\\lib\\site-packages (from uvicorn->gradio->visualdl->paddleocr>=2.0.1) (0.14.0)\n",
      "Requirement already satisfied: setuptools in c:\\users\\pahadian\\anaconda3\\envs\\paddle_env\\lib\\site-packages (from gevent>=0.13->geventhttpclient<=2.0.2,>=1.4.4->tritonclient[all]->visualdl->paddleocr>=2.0.1) (65.6.3)\n",
      "Requirement already satisfied: greenlet>=2.0.0 in c:\\users\\pahadian\\anaconda3\\envs\\paddle_env\\lib\\site-packages (from gevent>=0.13->geventhttpclient<=2.0.2,>=1.4.4->tritonclient[all]->visualdl->paddleocr>=2.0.1) (2.0.2)\n",
      "Requirement already satisfied: cffi>=1.12.2 in c:\\users\\pahadian\\anaconda3\\envs\\paddle_env\\lib\\site-packages (from gevent>=0.13->geventhttpclient<=2.0.2,>=1.4.4->tritonclient[all]->visualdl->paddleocr>=2.0.1) (1.15.1)\n",
      "Requirement already satisfied: zope.interface in c:\\users\\pahadian\\anaconda3\\envs\\paddle_env\\lib\\site-packages (from gevent>=0.13->geventhttpclient<=2.0.2,>=1.4.4->tritonclient[all]->visualdl->paddleocr>=2.0.1) (5.5.2)\n",
      "Requirement already satisfied: zope.event in c:\\users\\pahadian\\anaconda3\\envs\\paddle_env\\lib\\site-packages (from gevent>=0.13->geventhttpclient<=2.0.2,>=1.4.4->tritonclient[all]->visualdl->paddleocr>=2.0.1) (4.6)\n",
      "Requirement already satisfied: anyio<5.0,>=3.0 in c:\\users\\pahadian\\anaconda3\\envs\\paddle_env\\lib\\site-packages (from httpcore<0.17.0,>=0.15.0->httpx->gradio->visualdl->paddleocr>=2.0.1) (3.6.2)\n",
      "Requirement already satisfied: importlib-resources>=1.4.0 in c:\\users\\pahadian\\anaconda3\\envs\\paddle_env\\lib\\site-packages (from jsonschema>=3.0->altair>=4.2.0->gradio->visualdl->paddleocr>=2.0.1) (5.10.2)\n",
      "Requirement already satisfied: pkgutil-resolve-name>=1.3.10 in c:\\users\\pahadian\\anaconda3\\envs\\paddle_env\\lib\\site-packages (from jsonschema>=3.0->altair>=4.2.0->gradio->visualdl->paddleocr>=2.0.1) (1.3.10)\n",
      "Requirement already satisfied: pyrsistent!=0.17.0,!=0.17.1,!=0.17.2,>=0.14.0 in c:\\users\\pahadian\\anaconda3\\envs\\paddle_env\\lib\\site-packages (from jsonschema>=3.0->altair>=4.2.0->gradio->visualdl->paddleocr>=2.0.1) (0.19.3)\n",
      "Requirement already satisfied: uc-micro-py in c:\\users\\pahadian\\anaconda3\\envs\\paddle_env\\lib\\site-packages (from linkify-it-py~=1.0->markdown-it-py[linkify,plugins]>=2.0.0->gradio->visualdl->paddleocr>=2.0.1) (1.0.1)\n",
      "Requirement already satisfied: pycparser in c:\\users\\pahadian\\anaconda3\\envs\\paddle_env\\lib\\site-packages (from cffi>=1.12.2->gevent>=0.13->geventhttpclient<=2.0.2,>=1.4.4->tritonclient[all]->visualdl->paddleocr>=2.0.1) (2.21)\n"
     ]
    },
    {
     "name": "stderr",
     "output_type": "stream",
     "text": [
      "WARNING: Ignoring invalid distribution -rotobuf (c:\\users\\pahadian\\anaconda3\\envs\\paddle_env\\lib\\site-packages)\n",
      "WARNING: Ignoring invalid distribution -rotobuf (c:\\users\\pahadian\\anaconda3\\envs\\paddle_env\\lib\\site-packages)\n",
      "WARNING: Ignoring invalid distribution -rotobuf (c:\\users\\pahadian\\anaconda3\\envs\\paddle_env\\lib\\site-packages)\n",
      "WARNING: Ignoring invalid distribution -rotobuf (c:\\users\\pahadian\\anaconda3\\envs\\paddle_env\\lib\\site-packages)\n",
      "WARNING: Ignoring invalid distribution -rotobuf (c:\\users\\pahadian\\anaconda3\\envs\\paddle_env\\lib\\site-packages)\n",
      "WARNING: Ignoring invalid distribution -rotobuf (c:\\users\\pahadian\\anaconda3\\envs\\paddle_env\\lib\\site-packages)\n"
     ]
    }
   ],
   "source": [
    "!pip install h5py\n",
    "!pip install typing-extensions\n",
    "!pip install wheel\n",
    "# Install paddle OCR\n",
    "!pip install \"paddleocr>=2.0.1\""
   ]
  },
  {
   "cell_type": "code",
   "execution_count": 9,
   "id": "1c0459e7",
   "metadata": {},
   "outputs": [
    {
     "name": "stderr",
     "output_type": "stream",
     "text": [
      "'git' is not recognized as an internal or external command,\n",
      "operable program or batch file.\n"
     ]
    }
   ],
   "source": [
    "# Clone paddle OCR repo - get FONTS for visualization\n",
    "!git clone https://github.com/PaddlePaddle/PaddleOCR"
   ]
  },
  {
   "cell_type": "code",
   "execution_count": 10,
   "id": "f945e6e7",
   "metadata": {},
   "outputs": [],
   "source": [
    "from paddleocr import PaddleOCR, draw_ocr # main OCR dependencies\n",
    "from matplotlib import pyplot as plt # plot images\n",
    "import cv2 #opencv\n",
    "import os # folder directory navigation"
   ]
  },
  {
   "cell_type": "markdown",
   "id": "26416e14",
   "metadata": {},
   "source": [
    "# 2. Instantiate Model and Detect"
   ]
  },
  {
   "cell_type": "code",
   "execution_count": 11,
   "id": "e2b98249",
   "metadata": {},
   "outputs": [
    {
     "name": "stdout",
     "output_type": "stream",
     "text": [
      "[2023/02/13 16:57:31] ppocr DEBUG: Namespace(alpha=1.0, benchmark=False, beta=1.0, cls_batch_num=6, cls_image_shape='3, 48, 192', cls_model_dir='C:\\\\Users\\\\pahadian/.paddleocr/whl\\\\cls\\\\ch_ppocr_mobile_v2.0_cls_infer', cls_thresh=0.9, cpu_threads=10, crop_res_save_dir='./output', det=True, det_algorithm='DB', det_box_type='quad', det_db_box_thresh=0.6, det_db_score_mode='fast', det_db_thresh=0.3, det_db_unclip_ratio=1.5, det_east_cover_thresh=0.1, det_east_nms_thresh=0.2, det_east_score_thresh=0.8, det_limit_side_len=960, det_limit_type='max', det_model_dir='C:\\\\Users\\\\pahadian/.paddleocr/whl\\\\det\\\\en\\\\en_PP-OCRv3_det_infer', det_pse_box_thresh=0.85, det_pse_min_area=16, det_pse_scale=1, det_pse_thresh=0, det_sast_nms_thresh=0.2, det_sast_score_thresh=0.5, draw_img_save_dir='./inference_results', drop_score=0.5, e2e_algorithm='PGNet', e2e_char_dict_path='./ppocr/utils/ic15_dict.txt', e2e_limit_side_len=768, e2e_limit_type='max', e2e_model_dir=None, e2e_pgnet_mode='fast', e2e_pgnet_score_thresh=0.5, e2e_pgnet_valid_set='totaltext', enable_mkldnn=False, fourier_degree=5, gpu_mem=500, help='==SUPPRESS==', image_dir=None, image_orientation=False, ir_optim=True, kie_algorithm='LayoutXLM', label_list=['0', '180'], lang='en', layout=True, layout_dict_path=None, layout_model_dir=None, layout_nms_threshold=0.5, layout_score_threshold=0.5, max_batch_size=10, max_text_length=25, merge_no_span_structure=True, min_subgraph_size=15, mode='structure', ocr=True, ocr_order_method=None, ocr_version='PP-OCRv3', output='./output', page_num=0, precision='fp32', process_id=0, re_model_dir=None, rec=True, rec_algorithm='SVTR_LCNet', rec_batch_num=6, rec_char_dict_path='C:\\\\Users\\\\pahadian\\\\Anaconda3\\\\envs\\\\paddle_env\\\\lib\\\\site-packages\\\\paddleocr\\\\ppocr\\\\utils\\\\en_dict.txt', rec_image_inverse=True, rec_image_shape='3, 48, 320', rec_model_dir='C:\\\\Users\\\\pahadian/.paddleocr/whl\\\\rec\\\\en\\\\en_PP-OCRv3_rec_infer', recovery=False, save_crop_res=False, save_log_path='./log_output/', scales=[8, 16, 32], ser_dict_path='../train_data/XFUND/class_list_xfun.txt', ser_model_dir=None, show_log=True, sr_batch_num=1, sr_image_shape='3, 32, 128', sr_model_dir=None, structure_version='PP-StructureV2', table=True, table_algorithm='TableAttn', table_char_dict_path=None, table_max_len=488, table_model_dir=None, total_process_num=1, type='ocr', use_angle_cls=False, use_dilation=False, use_gpu=False, use_mp=False, use_npu=False, use_onnx=False, use_pdf2docx_api=False, use_pdserving=False, use_space_char=True, use_tensorrt=False, use_visual_backbone=True, use_xpu=False, vis_font_path='./doc/fonts/simfang.ttf', warmup=False)\n"
     ]
    }
   ],
   "source": [
    "# Setup model\n",
    "ocr_model = PaddleOCR(lang='en')"
   ]
  },
  {
   "cell_type": "code",
   "execution_count": 12,
   "id": "4b49b7b8",
   "metadata": {},
   "outputs": [],
   "source": [
    "img_path = os.path.join('.', '421.jpg')"
   ]
  },
  {
   "cell_type": "code",
   "execution_count": 13,
   "id": "61d178f6",
   "metadata": {},
   "outputs": [
    {
     "name": "stdout",
     "output_type": "stream",
     "text": [
      "[2023/02/13 16:57:58] ppocr WARNING: Since the angle classifier is not initialized, the angle classifier will not be uesd during the forward process\n",
      "[2023/02/13 16:57:58] ppocr DEBUG: dt_boxes num : 2, elapse : 0.025954723358154297\n",
      "[2023/02/13 16:57:58] ppocr DEBUG: rec_res num  : 2, elapse : 0.28438568115234375\n"
     ]
    }
   ],
   "source": [
    "# Run the ocr method on the ocr model\n",
    "result = ocr_model.ocr(img_path)"
   ]
  },
  {
   "cell_type": "code",
   "execution_count": 14,
   "id": "85300bf6",
   "metadata": {},
   "outputs": [
    {
     "data": {
      "text/plain": [
       "[[[[[19.0, 8.0], [162.0, 10.0], [162.0, 31.0], [19.0, 29.0]],\n",
       "   ('old height - new height', 0.9953818321228027)],\n",
       "  [[[58.0, 35.0], [122.0, 35.0], [122.0, 53.0], [58.0, 53.0]],\n",
       "   ('old height', 0.9987610578536987)]]]"
      ]
     },
     "execution_count": 14,
     "metadata": {},
     "output_type": "execute_result"
    }
   ],
   "source": [
    "result"
   ]
  },
  {
   "cell_type": "code",
   "execution_count": 15,
   "id": "b870369a",
   "metadata": {},
   "outputs": [
    {
     "name": "stdout",
     "output_type": "stream",
     "text": [
      "[[58.0, 35.0], [122.0, 35.0], [122.0, 53.0], [58.0, 53.0]]\n"
     ]
    }
   ],
   "source": [
    "for res in result:\n",
    "    print(res[1][0]) "
   ]
  },
  {
   "cell_type": "markdown",
   "id": "a6f21fdb",
   "metadata": {},
   "source": [
    "# 3. Visualise Results"
   ]
  },
  {
   "cell_type": "code",
   "execution_count": 16,
   "id": "d5ca63ab",
   "metadata": {},
   "outputs": [],
   "source": [
    "# Extracting detected components\n",
    "boxes = [res[0] for res in result] # \n",
    "texts = [res[1][0] for res in result]\n",
    "scores = [res[1][1] for res in result]"
   ]
  },
  {
   "cell_type": "code",
   "execution_count": 17,
   "id": "10b155ae",
   "metadata": {},
   "outputs": [],
   "source": [
    "# Specifying font path for draw_ocr method\n",
    "font_path = os.path.join('PaddleOCR', 'doc', 'fonts', 'latin.ttf')"
   ]
  },
  {
   "cell_type": "code",
   "execution_count": 18,
   "id": "2df4308d",
   "metadata": {},
   "outputs": [],
   "source": [
    "# Import our image - drug 1/2/3\n",
    "# imports image\n",
    "img = cv2.imread(img_path) \n",
    "\n",
    "# reorders the color channels\n",
    "img = cv2.cvtColor(img, cv2.COLOR_BGR2RGB) "
   ]
  },
  {
   "cell_type": "code",
   "execution_count": 19,
   "id": "a32d83ad",
   "metadata": {},
   "outputs": [
    {
     "ename": "TypeError",
     "evalue": "'<' not supported between instances of 'tuple' and 'float'",
     "output_type": "error",
     "traceback": [
      "\u001b[1;31m---------------------------------------------------------------------------\u001b[0m",
      "\u001b[1;31mTypeError\u001b[0m                                 Traceback (most recent call last)",
      "Cell \u001b[1;32mIn[19], line 6\u001b[0m\n\u001b[0;32m      3\u001b[0m plt\u001b[38;5;241m.\u001b[39mfigure(figsize\u001b[38;5;241m=\u001b[39m(\u001b[38;5;241m15\u001b[39m,\u001b[38;5;241m15\u001b[39m))\n\u001b[0;32m      5\u001b[0m \u001b[38;5;66;03m# draw annotations on image\u001b[39;00m\n\u001b[1;32m----> 6\u001b[0m annotated \u001b[38;5;241m=\u001b[39m \u001b[43mdraw_ocr\u001b[49m\u001b[43m(\u001b[49m\u001b[43mimg\u001b[49m\u001b[43m,\u001b[49m\u001b[43m \u001b[49m\u001b[43mboxes\u001b[49m\u001b[43m,\u001b[49m\u001b[43m \u001b[49m\u001b[43mtexts\u001b[49m\u001b[43m,\u001b[49m\u001b[43m \u001b[49m\u001b[43mscores\u001b[49m\u001b[43m,\u001b[49m\u001b[43m \u001b[49m\u001b[43mfont_path\u001b[49m\u001b[38;5;241;43m=\u001b[39;49m\u001b[43mfont_path\u001b[49m\u001b[43m)\u001b[49m \n\u001b[0;32m      8\u001b[0m \u001b[38;5;66;03m# show the image using matplotlib\u001b[39;00m\n\u001b[0;32m      9\u001b[0m plt\u001b[38;5;241m.\u001b[39mimshow(annotated)\n",
      "File \u001b[1;32m~\\Anaconda3\\envs\\paddle_env\\lib\\site-packages\\paddleocr\\tools\\infer\\utility.py:382\u001b[0m, in \u001b[0;36mdraw_ocr\u001b[1;34m(image, boxes, txts, scores, drop_score, font_path)\u001b[0m\n\u001b[0;32m    380\u001b[0m box_num \u001b[38;5;241m=\u001b[39m \u001b[38;5;28mlen\u001b[39m(boxes)\n\u001b[0;32m    381\u001b[0m \u001b[38;5;28;01mfor\u001b[39;00m i \u001b[38;5;129;01min\u001b[39;00m \u001b[38;5;28mrange\u001b[39m(box_num):\n\u001b[1;32m--> 382\u001b[0m     \u001b[38;5;28;01mif\u001b[39;00m scores \u001b[38;5;129;01mis\u001b[39;00m \u001b[38;5;129;01mnot\u001b[39;00m \u001b[38;5;28;01mNone\u001b[39;00m \u001b[38;5;129;01mand\u001b[39;00m (\u001b[43mscores\u001b[49m\u001b[43m[\u001b[49m\u001b[43mi\u001b[49m\u001b[43m]\u001b[49m\u001b[43m \u001b[49m\u001b[38;5;241;43m<\u001b[39;49m\u001b[43m \u001b[49m\u001b[43mdrop_score\u001b[49m \u001b[38;5;129;01mor\u001b[39;00m\n\u001b[0;32m    383\u001b[0m                                math\u001b[38;5;241m.\u001b[39misnan(scores[i])):\n\u001b[0;32m    384\u001b[0m         \u001b[38;5;28;01mcontinue\u001b[39;00m\n\u001b[0;32m    385\u001b[0m     box \u001b[38;5;241m=\u001b[39m np\u001b[38;5;241m.\u001b[39mreshape(np\u001b[38;5;241m.\u001b[39marray(boxes[i]), [\u001b[38;5;241m-\u001b[39m\u001b[38;5;241m1\u001b[39m, \u001b[38;5;241m1\u001b[39m, \u001b[38;5;241m2\u001b[39m])\u001b[38;5;241m.\u001b[39mastype(np\u001b[38;5;241m.\u001b[39mint64)\n",
      "\u001b[1;31mTypeError\u001b[0m: '<' not supported between instances of 'tuple' and 'float'"
     ]
    },
    {
     "data": {
      "text/plain": [
       "<Figure size 1500x1500 with 0 Axes>"
      ]
     },
     "metadata": {},
     "output_type": "display_data"
    }
   ],
   "source": [
    "# Visualize our image and detections\n",
    "# resizing display area\n",
    "plt.figure(figsize=(15,15))\n",
    "\n",
    "# draw annotations on image\n",
    "annotated = draw_ocr(img, boxes, texts, scores, font_path=font_path) \n",
    "\n",
    "# show the image using matplotlib\n",
    "plt.imshow(annotated) "
   ]
  },
  {
   "cell_type": "code",
   "execution_count": 20,
   "id": "869eb64f",
   "metadata": {},
   "outputs": [
    {
     "data": {
      "text/plain": [
       "(56, 183, 3)"
      ]
     },
     "execution_count": 20,
     "metadata": {},
     "output_type": "execute_result"
    }
   ],
   "source": [
    "img.shape"
   ]
  },
  {
   "cell_type": "code",
   "execution_count": null,
   "id": "e9a12c1f",
   "metadata": {},
   "outputs": [],
   "source": []
  }
 ],
 "metadata": {
  "kernelspec": {
   "display_name": "Python 3 (ipykernel)",
   "language": "python",
   "name": "python3"
  },
  "language_info": {
   "codemirror_mode": {
    "name": "ipython",
    "version": 3
   },
   "file_extension": ".py",
   "mimetype": "text/x-python",
   "name": "python",
   "nbconvert_exporter": "python",
   "pygments_lexer": "ipython3",
   "version": "3.8.16"
  },
  "vscode": {
   "interpreter": {
    "hash": "ebfdd3be484cae056da3dcc68a3ed2e778278e15c9cfd452bccf8bd4e7da9bbe"
   }
  }
 },
 "nbformat": 4,
 "nbformat_minor": 5
}
